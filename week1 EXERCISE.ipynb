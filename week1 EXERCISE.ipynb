{
 "cells": [
  {
   "cell_type": "markdown",
   "id": "fe12c203-e6a6-452c-a655-afb8a03a4ff5",
   "metadata": {},
   "source": [
    "# End of week 1 exercise\n",
    "\n",
    "To demonstrate your familiarity with OpenAI API, and also Ollama, build a tool that takes a technical question,  \n",
    "and responds with an explanation. This is a tool that you will be able to use yourself during the course!"
   ]
  },
  {
   "cell_type": "code",
   "execution_count": 61,
   "id": "c1070317-3ed9-4659-abe3-828943230e03",
   "metadata": {},
   "outputs": [],
   "source": [
    "# importar librerias que usamos en los distintos dias\n",
    "\n",
    "from dotenv import load_dotenv\n",
    "from openai import OpenAI\n",
    "from IPython.display import Markdown, display, update_display"
   ]
  },
  {
   "cell_type": "code",
   "execution_count": 67,
   "id": "26274563-9a5e-49c5-9b58-cb1286b173e5",
   "metadata": {},
   "outputs": [
    {
     "name": "stdout",
     "output_type": "stream",
     "text": [
      "API key found and looks good so far!\n"
     ]
    }
   ],
   "source": [
    "#check Open IA API\n",
    "load_dotenv(override=True)\n",
    "api_key = os.getenv('OPENAI_API_KEY')\n",
    "\n",
    "# Check the key\n",
    "\n",
    "if not api_key:\n",
    "    print(\"No API key was found - please head over to the troubleshooting notebook in this folder to identify & fix!\")\n",
    "elif not api_key.startswith(\"sk-proj-\"):\n",
    "    print(\"An API key was found, but it doesn't start sk-proj-; please check you're using the right key - see troubleshooting notebook\")\n",
    "elif api_key.strip() != api_key:\n",
    "    print(\"An API key was found, but it looks like it might have space or tab characters at the start or end - please remove them - see troubleshooting notebook\")\n",
    "else:\n",
    "    print(\"API key found and looks good so far!\")"
   ]
  },
  {
   "cell_type": "code",
   "execution_count": 63,
   "id": "4a456906-915a-4bfd-bb9d-57e505c5093f",
   "metadata": {},
   "outputs": [],
   "source": [
    "# constants\n",
    "\n",
    "MODEL_GPT = 'gpt-4o-mini'\n",
    "openai = OpenAI()\n",
    "MODEL_LLAMA = 'llama3.2'"
   ]
  },
  {
   "cell_type": "code",
   "execution_count": 64,
   "id": "3f0d0137-52b0-47a8-81a8-11a90a010798",
   "metadata": {},
   "outputs": [],
   "source": [
    "# Defino pregunta y system prompt. El user promt sera igual a la pregunta\n",
    "\n",
    "#question = \"\"\"\n",
    "#Por favor explicame que hace este código\n",
    "#yield from {book.get(\"author\") for book in books if book.get(\"author\")}\n",
    "#\"\"\"\n",
    "\n",
    "question = \"\"\"\n",
    "Por favor explicame que hace este código\n",
    "display_handle = display(Markdown(\"\"), display_id=True)\n",
    "    for chunk in stream:\n",
    "        response += chunk.choices[0].delta.content or ''\n",
    "        response = response.replace(\"```\",\"\").replace(\"markdown\", \"\")\n",
    "        update_display(Markdown(response), display_id=display_handle.display_id)\n",
    "\n",
    "\"\"\"\n",
    "\n",
    "system_prompt=\"Eres un experto en programación y análisis de código. Responde fácil, apto para no expertos y con precisión, por favor pon los resultados con salto de línea.\""
   ]
  },
  {
   "cell_type": "code",
   "execution_count": 65,
   "id": "60ce7000-a4a5-4cce-a261-e75ef45063b4",
   "metadata": {},
   "outputs": [],
   "source": [
    "# Funcion para responder pregunta solo con markdown\n",
    "def responder_pregunta(question, system_prompt):\n",
    "    response =openai.chat.completions.create(\n",
    "        model=MODEL_GPT, \n",
    "        messages=[\n",
    "            {\"role\": \"system\", \"content\": system_prompt},  #igualo al user promt\n",
    "            {\"role\": \"user\", \"content\": question}          # igualo el user promt a la variable question\n",
    "        ]\n",
    "        )\n",
    "    result=response.choices[0].message.content\n",
    "    return display(Markdown(result))\n",
    "    \n",
    "    "
   ]
  },
  {
   "cell_type": "code",
   "execution_count": 66,
   "id": "46b8689b-2bd6-42d3-b625-ea73f6288ae6",
   "metadata": {},
   "outputs": [
    {
     "data": {
      "text/markdown": [
       "Claro, te explicaré paso a paso qué hace este código:\n",
       "\n",
       "1. **Inicialización del display:**\n",
       "   ```python\n",
       "   display_handle = display(Markdown(\"\"), display_id=True)\n",
       "   ```\n",
       "   Aquí se está creando un objeto de visualización que mostrará texto en formato Markdown. Se inicia con un texto vacío y se asigna un identificador para que se pueda actualizar más tarde.\n",
       "\n",
       "2. **Bucle sobre un flujo de datos:**\n",
       "   ```python\n",
       "   for chunk in stream:\n",
       "   ```\n",
       "   Este bucle itera sobre un conjunto de datos llamado `stream`. Cada `chunk` representa un pedazo de información que se recibe uno a la vez.\n",
       "\n",
       "3. **Construcción de la respuesta:**\n",
       "   ```python\n",
       "   response += chunk.choices[0].delta.content or ''\n",
       "   ```\n",
       "   Aquí se está acumulando el contenido del primer fragmento (`choices[0].delta.content`) del `chunk` en la variable `response`. Si este contenido es `None` o vacío, se añade una cadena vacía (`''`).\n",
       "\n",
       "4. **Limpieza del texto:**\n",
       "   ```python\n",
       "   response = response.replace(\"```\", \"\").replace(\"markdown\", \"\")\n",
       "   ```\n",
       "   En esta línea, se reemplazan todas las ocurrencias de ```` ``` ```` y la palabra `markdown` en la variable `response` con cadenas vacías, eliminándolas del texto que se va a mostrar.\n",
       "\n",
       "5. **Actualización de la visualización:**\n",
       "   ```python\n",
       "   update_display(Markdown(response), display_id=display_handle.display_id)\n",
       "   ```\n",
       "   Finalmente, esta línea actualiza la visualización en la interfaz, mostrando el contenido que ahora está en `response`. Se utiliza el identificador `display_handle.display_id` para asegurarse de que se actualice la misma visualización que se creó al inicio.\n",
       "\n",
       "En resumen, este código muestra en la interfaz un texto que se va construyendo en tiempo real a partir de un flujo de datos, eliminando ciertas partes innecesarias antes de mostrarlo."
      ],
      "text/plain": [
       "<IPython.core.display.Markdown object>"
      ]
     },
     "metadata": {},
     "output_type": "display_data"
    }
   ],
   "source": [
    "responder_pregunta(question,system_prompt)"
   ]
  },
  {
   "cell_type": "code",
   "execution_count": 53,
   "id": "d0a2fad5-717c-40ea-acb2-6cfdfbd4fd7a",
   "metadata": {},
   "outputs": [],
   "source": [
    "# Funcion para responder pregunta solo con streaming\n",
    "def stream_pregunta(question, system_prompt):\n",
    "    stream =openai.chat.completions.create( #aca en lugar de utilizar responde utilizo stream\n",
    "        model=MODEL_GPT, \n",
    "        messages=[\n",
    "            {\"role\": \"system\", \"content\": system_prompt},  #igualo al user promt\n",
    "            {\"role\": \"user\", \"content\": question}          # igualo el user promt a la variable question\n",
    "        ],\n",
    "        stream=True\n",
    "        )\n",
    "    response = \"\"\n",
    "    display_handle = display(Markdown(\"\"), display_id=True)\n",
    "    for chunk in stream:\n",
    "        response += chunk.choices[0].delta.content or ''\n",
    "        response = response.replace(\"```\",\"\").replace(\"markdown\", \"\")\n",
    "        update_display(Markdown(response), display_id=display_handle.display_id)"
   ]
  },
  {
   "cell_type": "code",
   "execution_count": 54,
   "id": "0e93f7a5-c000-498a-a52e-1124409122c8",
   "metadata": {},
   "outputs": [
    {
     "data": {
      "text/markdown": [
       "Este código está diseñado para mostrar de forma dinámica el contenido que se va generando en tiempo real (generalmente a partir de una conversación con un modelo de lenguaje) en un entorno que permite la visualización, como un cuaderno de Jupyter.\n",
       "\n",
       "Aquí te explico cada parte:\n",
       "\n",
       "1. **`display_handle = display(Markdown(\"\"), display_id=True)`**:\n",
       "   - Inicializa una visualización vacía en formato Markdown, dándole un identificador (ID) para poder actualizarla después. \n",
       "   - `display` es una función que muestra contenido en el cuaderno.\n",
       "   - `Markdown(\"\")` crea un bloque vacío que se verá como texto formateado.\n",
       "\n",
       "2. **`for chunk in stream:`**:\n",
       "   - Inicia un bucle que recorrerá cada \"trozo\" (chunk) de datos que llega desde una fuente llamada `stream`. Esto puede ser, por ejemplo, respuestas generadas en tiempo real de un modelo de lenguaje.\n",
       "\n",
       "3. **`response += chunk.choices[0].delta.content or ''`**:\n",
       "   - Aquí se va acumulando el contenido en la variable `response`. \n",
       "   - `chunk.choices[0].delta.content` accede al contenido del primer elemento de `choices` en el `chunk` actual. Si este contenido es `None`, se añade una cadena vacía ('') para no afectar la acumulación.\n",
       "\n",
       "4. **`response = response.replace(\"\", \"\").replace(\"\", \"\")`**:\n",
       "   - Se eliminan ciertos caracteres o palabras del texto que se ha acumulado en `response`, específicamente:\n",
       "     - Se remueven \"\" (que suelen usarse para bloques de código en Markdown).\n",
       "     - Se remueve la palabra \"\".\n",
       "\n",
       "5. **`update_display(Markdown(response), display_id=display_handle.display_id)`**:\n",
       "   - Finalmente, actualiza el contenido mostrado en la visualización inicial utilizando el nuevo `response` ya procesado.\n",
       "   - Esto se hace utilizando `update_display`, que cambia el contenido del bloque Markdown sin crear uno nuevo, gracias al `display_id` que se guardó anteriormente.\n",
       "\n",
       "Entonces, en resumen, el código permite mostrar y actualizar dinámicamente un texto que se genera a partir de un flujo de datos, eliminando ciertas partes no deseadas mientras se acumula el contenido."
      ],
      "text/plain": [
       "<IPython.core.display.Markdown object>"
      ]
     },
     "metadata": {},
     "output_type": "display_data"
    }
   ],
   "source": [
    "stream_pregunta(question,system_prompt)"
   ]
  },
  {
   "cell_type": "code",
   "execution_count": 58,
   "id": "8f7c8ea8-4082-4ad0-8751-3301adcf6538",
   "metadata": {},
   "outputs": [],
   "source": [
    "# Utilizar Llama 3.2\n",
    "OLLAMA_API = \"http://localhost:11434/api/chat\" ## conexion con el modelo\n",
    "HEADERS = {\"Content-Type\": \"application/json\"} ## recojer las respuestas correctamente\n",
    "\n",
    "import ollama"
   ]
  },
  {
   "cell_type": "code",
   "execution_count": 59,
   "id": "c649db21-f190-4e0e-87a9-92970e89d32c",
   "metadata": {},
   "outputs": [],
   "source": [
    "# Funcion para responder pregunta solo con markdown\n",
    "def responder_pregunta_ollama(question, system_prompt):\n",
    "    response =ollama.chat(\n",
    "        model=MODEL_LLAMA, \n",
    "        messages=[\n",
    "            {\"role\": \"system\", \"content\": system_prompt},  #igualo al user promt\n",
    "            {\"role\": \"user\", \"content\": question}          # igualo el user promt a la variable question\n",
    "        ]\n",
    "        )\n",
    "    result=response['message']['content']\n",
    "    return display(Markdown(result))\n",
    "    "
   ]
  },
  {
   "cell_type": "code",
   "execution_count": 60,
   "id": "992fab68-8732-46db-adb8-0e4e3f15d323",
   "metadata": {},
   "outputs": [
    {
     "data": {
      "text/markdown": [
       "Este código parece ser parte de una aplicación que permite editar y visualizar contenido Markdown utilizando un editor de código. A continuación, te explicaré qué hace cada línea:\n",
       "\n",
       "**1. `display_handle = display(Markdown(\"\"), display_id=True)`**\n",
       "\n",
       "*   Crea un objeto `Markdown` vacío (`\"\"`).\n",
       "*   Llama al método `display()` con el objeto `Markdown` creado anteriormente y establece la propiedad `display_id` en `True`. El resultado se almacena en la variable `display_handle`.\n",
       "\n",
       "**2. `for chunk in stream:`**\n",
       "\n",
       "*   Inicia un bucle de iteración (`for`) que itera sobre cada elemento (`chunk`) en el objeto `stream`. Sin embargo, no tengo información específica sobre qué es el contenido de `stream`, por lo que asumiré que se trata de una secuencia de datos que se van enviendo en forma de paquetes.\n",
       "\n",
       "**3. `response += chunk.choices[0].delta.content or ''`**\n",
       "\n",
       "*   Agrega el contenido (`content`) del primer elemento seleccionado (`choices[0]`) dentro del objeto delta (`delta`) a la variable `response`. La expresión `or ''` es un operador lógico \"o\" que permite unir una cadena vacía si la cadena resultante no es falsa.\n",
       "\n",
       "**4. `response = response.replace(\"```\",\"\").replace(\"markdown\", \"\")`**\n",
       "\n",
       "*   Reemplaza dos cadenas de caracteres dentro de la variable `response`: `\"```\"` y `\"markdown\"`. La primera reemplaza cualquier código HTML (código entre tripletes de backticks) por nada, mientras que la segunda elimina el texto \"markdown\".\n",
       "\n",
       "**5. `update_display(Markdown(response), display_id=display_handle.display_id)`**\n",
       "\n",
       "*   Llama al método `update_display()` con un nuevo objeto `Markdown` creado a partir de la variable `response`, y establece la propiedad `display_id` en la misma dirección de la que se recibió el objeto original (`display_handle.display_id`). Esta llamada actualiza visualmente el contenido del editor.\n",
       "\n",
       "En resumen, este código parece ser parte de una aplicación que permite editar y visualizar contenido Markdown. El ciclo principal itera sobre cada paquete de datos que llega desde `stream`, agrega el texto seleccionado al contenido del objeto Markdown (`response`), lo elimina de cualquier código HTML y actualiza visualmente el contenido en la pantalla."
      ],
      "text/plain": [
       "<IPython.core.display.Markdown object>"
      ]
     },
     "metadata": {},
     "output_type": "display_data"
    }
   ],
   "source": [
    "responder_pregunta_ollama(question, system_prompt)"
   ]
  }
 ],
 "metadata": {
  "kernelspec": {
   "display_name": "Python 3 (ipykernel)",
   "language": "python",
   "name": "python3"
  },
  "language_info": {
   "codemirror_mode": {
    "name": "ipython",
    "version": 3
   },
   "file_extension": ".py",
   "mimetype": "text/x-python",
   "name": "python",
   "nbconvert_exporter": "python",
   "pygments_lexer": "ipython3",
   "version": "3.11.11"
  }
 },
 "nbformat": 4,
 "nbformat_minor": 5
}
