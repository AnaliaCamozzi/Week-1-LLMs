{
 "cells": [
  {
   "cell_type": "code",
   "execution_count": 54,
   "id": "e610bf56-a46e-4aff-8de1-ab49d62b1ad3",
   "metadata": {},
   "outputs": [],
   "source": [
    "# Importo las librerías que vimos en la semana 4\n",
    "\n",
    "import os\n",
    "import io\n",
    "import sys\n",
    "import json\n",
    "import requests\n",
    "from dotenv import load_dotenv\n",
    "from openai import OpenAI\n",
    "import anthropic\n",
    "from IPython.display import Markdown, display, update_display\n",
    "import gradio as gr\n",
    "import subprocess"
   ]
  },
  {
   "cell_type": "code",
   "execution_count": 55,
   "id": "11428052-3cdd-4bff-8297-2ea974a66fa7",
   "metadata": {},
   "outputs": [],
   "source": [
    "import google.generativeai as genai"
   ]
  },
  {
   "cell_type": "code",
   "execution_count": 56,
   "id": "4f672e1c-87e9-4865-b760-370fa605e614",
   "metadata": {},
   "outputs": [],
   "source": [
    "# environment\n",
    "\n",
    "load_dotenv()\n",
    "os.environ['OPENAI_API_KEY'] = os.getenv('OPENAI_API_KEY', 'your-key-if-not-using-env')\n",
    "os.environ['ANTHROPIC_API_KEY'] = os.getenv('ANTHROPIC_API_KEY', 'your-key-if-not-using-env')\n",
    "os.environ['HF_TOKEN'] = os.getenv('HF_TOKEN', 'your-key-if-not-using-env')\n",
    "#Agrego google \n",
    "os.environ['GOOGLE_API_KEY']=os.getenv('GOOGLE_API_KEY','your-key-if-not-using-env')\n"
   ]
  },
  {
   "cell_type": "code",
   "execution_count": 57,
   "id": "8aa149ed-9298-4d69-8fe2-8f5de0f667da",
   "metadata": {},
   "outputs": [],
   "source": [
    "#Modelos\n",
    "openai = OpenAI()\n",
    "claude = anthropic.Anthropic()\n",
    "\n",
    "OPENAI_MODEL = \"gpt-4o\"\n",
    "CLAUDE_MODEL = \"claude-3-5-sonnet-20240620\"\n"
   ]
  },
  {
   "cell_type": "code",
   "execution_count": 62,
   "id": "712f9f52-9bb4-482a-a48d-5c411550f977",
   "metadata": {},
   "outputs": [],
   "source": [
    "genai.configure()\n",
    "GEMINI_MODEL= \"gemini-1.5-flash\""
   ]
  },
  {
   "cell_type": "code",
   "execution_count": 40,
   "id": "6896636f-923e-4a2c-9d6c-fac07828a201",
   "metadata": {},
   "outputs": [],
   "source": [
    "#Mantengo el mismo system message ya q solo agrego Gemini\n",
    "system_message = \"Eres un asistente que reimplementa código Python en C++ de alto rendimiento para una Mac M4. \"\n",
    "system_message += \"Responde solo con código C++; usa los comentarios con moderación y no proporciones ninguna explicación más allá de comentarios ocasionales. \"\n",
    "system_message += \"La respuesta C++ debe producir una salida idéntica en el menor tiempo posible.\""
   ]
  },
  {
   "cell_type": "code",
   "execution_count": 41,
   "id": "8e7b3546-57aa-4c29-bc5d-f211970d04eb",
   "metadata": {},
   "outputs": [],
   "source": [
    "#Mantengo el mismo user prompt ya q solo agrego Gemini\n",
    "def user_prompt_for(python):\n",
    "    user_prompt = \"Reescribe este código Python en C++ con la implementación más rápida posible que produzca una salida idéntica en el menor tiempo posible.\"\n",
    "    user_prompt += \"Responde solo con código C++; no expliques tu trabajo más allá de algunos comentarios.\"\n",
    "    user_prompt += \"Manten la implementación de la generación de números aleatorios idénticos para que los resultados de la coincidencia sean exactos.\"\n",
    "    user_prompt += \"Responde solo con código C++; no añadas nada más que código; usa los comentarios con moderación y no proporciones ninguna explicación más allá de comentarios ocasionales. \"\n",
    "    user_prompt += \"Presta atención a los tipos de números para asegurar que no haya desbordamientos de int (overflow). Recuerda incluir todos los paquetes de C++ necesarios, como iomanip.\\n\\n\"    \n",
    "    user_prompt += python\n",
    "    return user_prompt"
   ]
  },
  {
   "cell_type": "code",
   "execution_count": 42,
   "id": "c6190659-f54c-4951-bef4-4960f8e51cc4",
   "metadata": {},
   "outputs": [],
   "source": [
    "def messages_for(python):\n",
    "    return [\n",
    "        {\"role\": \"system\", \"content\": system_message},\n",
    "        {\"role\": \"user\", \"content\": user_prompt_for(python)}\n",
    "    ]"
   ]
  },
  {
   "cell_type": "code",
   "execution_count": 43,
   "id": "71e1ba8c-5b05-4726-a9f3-8d8c6257350b",
   "metadata": {},
   "outputs": [],
   "source": [
    "def write_output(cpp):\n",
    "    code = cpp.replace(\"```cpp\",\"\").replace(\"```\",\"\")\n",
    "    with open(\"optimized.cpp\", \"w\") as f:\n",
    "        f.write(code)"
   ]
  },
  {
   "cell_type": "code",
   "execution_count": 44,
   "id": "e7d2fea8-74c6-4421-8f1e-0e76d5b201b9",
   "metadata": {},
   "outputs": [],
   "source": [
    "def optimize_gpt(python):    \n",
    "    stream = openai.chat.completions.create(model=OPENAI_MODEL, messages=messages_for(python), stream=True)\n",
    "    reply = \"\"\n",
    "    for chunk in stream:\n",
    "        fragment = chunk.choices[0].delta.content or \"\"\n",
    "        reply += fragment\n",
    "        print(fragment, end='', flush=True)\n",
    "    write_output(reply)"
   ]
  },
  {
   "cell_type": "code",
   "execution_count": 45,
   "id": "7cd84ad8-d55c-4fe0-9eeb-1895c95c4a9d",
   "metadata": {},
   "outputs": [],
   "source": [
    "def optimize_claude(python):\n",
    "    result = claude.messages.stream(\n",
    "        model=CLAUDE_MODEL,\n",
    "        max_tokens=2000,\n",
    "        system=system_message,\n",
    "        messages=[{\"role\": \"user\", \"content\": user_prompt_for(python)}],\n",
    "    )\n",
    "    reply = \"\"\n",
    "    with result as stream:\n",
    "        for text in stream.text_stream:\n",
    "            reply += text\n",
    "            print(text, end=\"\", flush=True)\n",
    "    write_output(reply)"
   ]
  },
  {
   "cell_type": "code",
   "execution_count": 63,
   "id": "a4ff9abf-6c40-4eed-b594-3bbdb309fcd5",
   "metadata": {},
   "outputs": [],
   "source": [
    "#Sumo el chunk de Gemini usando gemini-1.5-flash\n",
    "import google.generativeai as genai\n",
    "\n",
    "def optimize_gemini(python):\n",
    "    stream = genai.GenerativeModel(\"gemini-1.5-flash\").generate_content(user_prompt_for(python), stream=True)\n",
    "    reply = \"\"\n",
    "    for chunk in stream:\n",
    "        fragment = chunk.text or \"\"\n",
    "        reply += fragment\n",
    "        print(fragment, end='', flush=True)\n",
    "    write_output(reply)\n",
    "\n"
   ]
  },
  {
   "cell_type": "code",
   "execution_count": 64,
   "id": "a1cbb778-fa57-43de-b04b-ed523f396c38",
   "metadata": {},
   "outputs": [],
   "source": [
    "#uso el mismo chunk de codigo\n",
    "pi = \"\"\"\n",
    "import time\n",
    "\n",
    "def calculate(iterations, param1, param2):\n",
    "    result = 1.0\n",
    "    for i in range(1, iterations+1):\n",
    "        j = i * param1 - param2\n",
    "        result -= (1/j)\n",
    "        j = i * param1 + param2\n",
    "        result += (1/j)\n",
    "    return result\n",
    "\n",
    "start_time = time.time()\n",
    "result = calculate(100_000_000, 4, 1) * 4\n",
    "end_time = time.time()\n",
    "\n",
    "print(f\"Result: {result:.12f}\")\n",
    "print(f\"Execution Time: {(end_time - start_time):.6f} seconds\")\n",
    "\"\"\""
   ]
  },
  {
   "cell_type": "code",
   "execution_count": 65,
   "id": "105db6f9-343c-491d-8e44-3a5328b81719",
   "metadata": {},
   "outputs": [
    {
     "name": "stdout",
     "output_type": "stream",
     "text": [
      "```cpp\n",
      "#include <iostream>\n",
      "#include <chrono>\n",
      " <iomanip>\n",
      "\n",
      "//Usar double para evitar desbordamientos\n",
      " std; namespace\n",
      "using namespace chrono;\n",
      "\n",
      "\n",
      "double calculate(long long iterations, long long param1, long long param2) {\n",
      "1.0;double result = \n",
      "    for (long long i = 1; i <= iterations; ++i) {\n",
      ")i * param1 - param2; = (long double\n",
      "        result -= (1.0/j);\n",
      "        j = (long double)i * param1 + param2;\n",
      "        result += (1.0/j);\n",
      "    }\n",
      "    return result;\n",
      "}\n",
      "\n",
      "int main() {\n",
      "    auto start_time = high_resolution_clock::now();\n",
      "\n",
      ", 1) * 4;e result = calculate(100000000, 4\n",
      "\n",
      "    auto end_time = high_resolution_clock::now();\n",
      "    auto duration = duration_cast<microseconds>(end_time - start_time);\n",
      "\n",
      ";   cout << \"Result: \" << fixed << setprecision(12) << result << endl\n",
      "    cout << \"Execution Time: \" << (double)duration.count() / 1000000.0 << \" seconds\" << endl;\n",
      "\n",
      "    return 0;\n",
      "}\n",
      "```"
     ]
    }
   ],
   "source": [
    "#pruebo la funcion de gemini\n",
    "optimize_gemini(pi)"
   ]
  },
  {
   "cell_type": "code",
   "execution_count": 66,
   "id": "c3b497b3-f569-420e-b92e-fb0f49957ce0",
   "metadata": {},
   "outputs": [],
   "source": [
    "#mantengo el python hard\n",
    "\n",
    "python_hard = \"\"\"\n",
    "def lcg(seed, a=1664525, c=1013904223, m=2**32):\n",
    "    value = seed\n",
    "    while True:\n",
    "        value = (a * value + c) % m\n",
    "        yield value\n",
    "        \n",
    "def max_subarray_sum(n, seed, min_val, max_val):\n",
    "    lcg_gen = lcg(seed)\n",
    "    random_numbers = [next(lcg_gen) % (max_val - min_val + 1) + min_val for _ in range(n)]\n",
    "    max_sum = float('-inf')\n",
    "    for i in range(n):\n",
    "        current_sum = 0\n",
    "        for j in range(i, n):\n",
    "            current_sum += random_numbers[j]\n",
    "            if current_sum > max_sum:\n",
    "                max_sum = current_sum\n",
    "    return max_sum\n",
    "\n",
    "def total_max_subarray_sum(n, initial_seed, min_val, max_val):\n",
    "    total_sum = 0\n",
    "    lcg_gen = lcg(initial_seed)\n",
    "    for _ in range(20):\n",
    "        seed = next(lcg_gen)\n",
    "        total_sum += max_subarray_sum(n, seed, min_val, max_val)\n",
    "    return total_sum\n",
    "\n",
    "# Parameters\n",
    "n = 10000         # Number of random numbers\n",
    "initial_seed = 42 # Initial seed for the LCG\n",
    "min_val = -10     # Minimum value of random numbers\n",
    "max_val = 10      # Maximum value of random numbers\n",
    "\n",
    "# Timing the function\n",
    "import time\n",
    "start_time = time.time()\n",
    "result = total_max_subarray_sum(n, initial_seed, min_val, max_val)\n",
    "end_time = time.time()\n",
    "\n",
    "print(\"Total Maximum Subarray Sum (20 runs):\", result)\n",
    "print(\"Execution Time: {:.6f} seconds\".format(end_time - start_time))\n",
    "\"\"\""
   ]
  },
  {
   "cell_type": "code",
   "execution_count": 39,
   "id": "e8d24ed5-2c15-4f55-80e7-13a3952b3cb8",
   "metadata": {},
   "outputs": [
    {
     "name": "stdout",
     "output_type": "stream",
     "text": [
      "```cpp\n",
      "#include <iostream>\n",
      "#include <vector>\n",
      "#include <ctime>\n",
      "#include <cstdint>\n",
      "#include <limits>\n",
      "\n",
      " Linear Congruential Generator (LCG)\n",
      "class LCG {\n",
      "public:\n",
      "    LCG(uint32_t seed, uint32_t a = 1664525, uint32_t c = 1013904223, uint32_t m = 0xFFFFFFFF)\n",
      "        : value(seed), a(a), c(c), m(m) {}\n",
      "\n",
      "    uint32_t next() {\n",
      "        value = (static_cast<uint64_t>(a) * value + c) % m;\n",
      "        return value;\n",
      "    }\n",
      "\n",
      "private:\n",
      "    uint32_t value;\n",
      "    const uint32_t a, c, m;\n",
      "};\n",
      "\n",
      " Maximum subarray sum calculation\n",
      "int max_subarray_sum(int n, uint32_t seed, int min_val, int max_val) {\n",
      "    LCG lcg(seed);\n",
      "    std::vector<int> random_numbers(n);\n",
      "    \n",
      "    for (int i = 0; i < n; ++i) {\n",
      "        random_numbers[i] = static_cast<int>(lcg.next() % (max_val - min_val + 1)) + min_val;\n",
      "    }\n",
      "\n",
      "    int max_sum = std::numeric_limits<int>::min();\n",
      "    for (int i = 0; i < n; ++i) {\n",
      "        int current_sum = 0;\n",
      "        for (int j = i; j < n; ++j) {\n",
      "            current_sum += random_numbers[j];\n",
      "            if (current_sum > max_sum) {\n",
      "                max_sum = current_sum;\n",
      "            }\n",
      "        }\n",
      "    }\n",
      "    return max_sum;\n",
      "}\n",
      "\n",
      " Total maximum subarray sum over multiple iterations\n",
      "int total_max_subarray_sum(int n, uint32_t initial_seed, int min_val, int max_val) {\n",
      "    int total_sum = 0;\n",
      "    LCG lcg(initial_seed);\n",
      "\n",
      "    for (int i = 0; i < 20; ++i) {\n",
      "        uint32_t seed = lcg.next();\n",
      "        total_sum += max_subarray_sum(n, seed, min_val, max_val);\n",
      "    }\n",
      "    \n",
      "    return total_sum;\n",
      "}\n",
      "\n",
      " Main execution function\n",
      "int main() {\n",
      "    int n = 10000;\n",
      "    uint32_t initial_seed = 42;\n",
      "    int min_val = -10;\n",
      "    int max_val = 10;\n",
      "\n",
      "    clock_t start_time = clock();\n",
      "    int result = total_max_subarray_sum(n, initial_seed, min_val, max_val);\n",
      "    clock_t end_time = clock();\n",
      "    \n",
      "    std::cout << \"Total Maximum Subarray Sum (20 runs): \" << result << std::endl;\n",
      "    std::cout << \"Execution Time: \" << (static_cast<double>(end_time - start_time) / CLOCKS_PER_SEC) << \" seconds\" << std::endl;\n",
      "    \n",
      "    return 0;\n",
      "}\n",
      "```"
     ]
    }
   ],
   "source": [
    "optimize_gpt(python_hard)"
   ]
  },
  {
   "cell_type": "code",
   "execution_count": 67,
   "id": "e9305446-1d0c-4b51-866a-b8c1e299bf5c",
   "metadata": {},
   "outputs": [
    {
     "name": "stdout",
     "output_type": "stream",
     "text": [
      "```cpp\n",
      "#include <iostream>\n",
      "#include <vector>\n",
      " <limits> // Required for numeric_limits\n",
      " Required for high-resolution clock\n",
      "\n",
      "// Use unsigned long long to avoid overflow\n",
      "typedef unsigned long long ull;\n",
      "\n",
      " = 1664525, ull c = 1013904223, ull m = (1ULL << 32)) {\n",
      "    return (a * seed + c) % m;\n",
      "}\n",
      "\n",
      " {ng long max_subarray_sum(int n, ull seed, long long min_val, long long max_val)\n",
      "    std::vector<long long> random_numbers(n);\n",
      "ULL << 32); 1664525, c = 1013904223, m = (1\n",
      "    for (int i = 0; i < n; ++i) {\n",
      "        seed = lcg(seed, a, c, m);\n",
      "_val;   random_numbers[i] = seed % (max_val - min_val + 1) + min\n",
      "    }\n",
      "\n",
      "    long long max_sum = std::numeric_limits<long long>::min();\n",
      "    for (int i = 0; i < n; ++i) {\n",
      "        long long current_sum = 0;\n",
      " < n; ++j) {(int j = i; j\n",
      "            current_sum += random_numbers[j];\n",
      "            if (current_sum > max_sum) {\n",
      "                max_sum = current_sum;\n",
      "            }\n",
      "        }\n",
      "    }\n",
      "    return max_sum;\n",
      "}\n",
      "\n",
      "_max_subarray_sum(int n, ull initial_seed, long long min_val, long long max_val) {\n",
      "    long long total_sum = 0;\n",
      "    ull seed = initial_seed;\n",
      " = 1013904223, m = (1ULL << 32);\n",
      "    for (int i = 0; i < 20; ++i) {\n",
      "        seed = lcg(seed, a, c, m);\n",
      " max_subarray_sum(n, seed, min_val, max_val);\n",
      "    }\n",
      "    return total_sum;\n",
      "}\n",
      "\n",
      "int main() {\n",
      "    int n = 10000;\n",
      "    ull initial_seed = 42;\n",
      "_val = -10;ng min\n",
      "    long long max_val = 10;\n",
      "\n",
      "    auto start = std::chrono::high_resolution_clock::now();\n",
      ");  long long result = total_max_subarray_sum(n, initial_seed, min_val, max_val\n",
      "    auto end = std::chrono::high_resolution_clock::now();\n",
      "    auto duration = std::chrono::duration_cast<std::chrono::microseconds>(end - start);\n",
      "\n",
      "::endl;::cout << \"Total Maximum Subarray Sum (20 runs): \" << result << std\n",
      "    std::cout << \"Execution Time: \" << (double)duration.count() / 1000000 << \" seconds\" << std::endl;\n",
      "    return 0;\n",
      "}\n",
      "```"
     ]
    }
   ],
   "source": [
    "#pruebo la funcon de gemini\n",
    "optimize_gemini(python_hard)"
   ]
  },
  {
   "cell_type": "code",
   "execution_count": 68,
   "id": "0be9f47d-5213-4700-b0e2-d444c7c738c0",
   "metadata": {},
   "outputs": [],
   "source": [
    "def stream_gpt(python):    \n",
    "    stream = openai.chat.completions.create(model=OPENAI_MODEL, messages=messages_for(python), stream=True)\n",
    "    reply = \"\"\n",
    "    for chunk in stream:\n",
    "        fragment = chunk.choices[0].delta.content or \"\"\n",
    "        reply += fragment\n",
    "        yield reply.replace('```cpp\\n','').replace('```','')"
   ]
  },
  {
   "cell_type": "code",
   "execution_count": 69,
   "id": "8669f56b-8314-4582-a167-78842caea131",
   "metadata": {},
   "outputs": [],
   "source": [
    "def stream_claude(python):\n",
    "    result = claude.messages.stream(\n",
    "        model=CLAUDE_MODEL,\n",
    "        max_tokens=2000,\n",
    "        system=system_message,\n",
    "        messages=[{\"role\": \"user\", \"content\": user_prompt_for(python)}],\n",
    "    )\n",
    "    reply = \"\"\n",
    "    with result as stream:\n",
    "        for text in stream.text_stream:\n",
    "            reply += text\n",
    "            yield reply.replace('```cpp\\n','').replace('```','')"
   ]
  },
  {
   "cell_type": "code",
   "execution_count": 70,
   "id": "8a1788f1-8414-49b2-97ca-30016af2f5d7",
   "metadata": {},
   "outputs": [],
   "source": [
    "## creo la funcion de streaming\n",
    "def stream_gemini(python):\n",
    "    stream = genai.GenerativeModel(\"gemini-1.5-flash\").generate_content(user_prompt_for(python), stream=True)\n",
    "    reply = \"\"\n",
    "    for chunk in stream:\n",
    "        fragment = chunk.text or \"\"\n",
    "        reply += fragment\n",
    "        yield reply.replace('```cpp\\n','').replace('```','')"
   ]
  },
  {
   "cell_type": "code",
   "execution_count": 71,
   "id": "2f1ae8f5-16c8-40a0-aa18-63b617df078d",
   "metadata": {},
   "outputs": [],
   "source": [
    "#funcion para luego usar gradio\n",
    "def optimize(python, model):\n",
    "    if model==\"GPT\":\n",
    "        result = stream_gpt(python)\n",
    "    elif model==\"Claude\":\n",
    "        result = stream_claude(python)\n",
    "    elif model==\"Gemini\":\n",
    "        result = stream_gemini(python)\n",
    "    else:\n",
    "        raise ValueError(\"Modelo Desconocido\")\n",
    "    for stream_so_far in result:\n",
    "        yield stream_so_far        "
   ]
  },
  {
   "cell_type": "code",
   "execution_count": 72,
   "id": "f1ddb38e-6b0a-4c37-baa4-ace0b7de887a",
   "metadata": {},
   "outputs": [
    {
     "name": "stdout",
     "output_type": "stream",
     "text": [
      "* Running on local URL:  http://127.0.0.1:7862\n",
      "\n",
      "To create a public link, set `share=True` in `launch()`.\n"
     ]
    },
    {
     "data": {
      "text/html": [
       "<div><iframe src=\"http://127.0.0.1:7862/\" width=\"100%\" height=\"500\" allow=\"autoplay; camera; microphone; clipboard-read; clipboard-write;\" frameborder=\"0\" allowfullscreen></iframe></div>"
      ],
      "text/plain": [
       "<IPython.core.display.HTML object>"
      ]
     },
     "metadata": {},
     "output_type": "display_data"
    },
    {
     "data": {
      "text/plain": []
     },
     "execution_count": 72,
     "metadata": {},
     "output_type": "execute_result"
    }
   ],
   "source": [
    "#Agrego Gemini a la opción del desplegable de gradio\n",
    "with gr.Blocks() as ui:\n",
    "    with gr.Row():\n",
    "        python = gr.Textbox(label=\"Código en Python:\", lines=10, value=python_hard)\n",
    "        cpp = gr.Textbox(label=\"C++ code:\", lines=10)\n",
    "    with gr.Row():\n",
    "        model = gr.Dropdown([\"GPT\", \"Claude\",\"Gemini\"], label=\"Selecciona el modelo\", value=\"GPT\")\n",
    "        convert = gr.Button(\"Convertir código\")\n",
    "\n",
    "    convert.click(optimize, inputs=[python, model], outputs=[cpp])\n",
    "\n",
    "ui.launch(inbrowser=True)"
   ]
  },
  {
   "cell_type": "code",
   "execution_count": 73,
   "id": "19bf2bff-a822-4009-a539-f003b1651383",
   "metadata": {},
   "outputs": [],
   "source": [
    "def execute_python(code):\n",
    "        try:\n",
    "            output = io.StringIO()\n",
    "            sys.stdout = output\n",
    "            exec(code)\n",
    "        finally:\n",
    "            sys.stdout = sys.__stdout__\n",
    "        return output.getvalue()"
   ]
  },
  {
   "cell_type": "code",
   "execution_count": 74,
   "id": "77f3ab5d-fcfb-4d3f-8728-9cacbf833ea6",
   "metadata": {},
   "outputs": [],
   "source": [
    "def execute_cpp(code):\n",
    "        write_output(code)\n",
    "        try:\n",
    "            compile_cmd = [\"clang++\", \"-Ofast\", \"-std=c++17\", \"-march=armv8.5-a\", \"-mtune=apple-m2\", \"-mcpu=apple-m2\", \"-o\", \"optimized\", \"optimized.cpp\"]\n",
    "            compile_result = subprocess.run(compile_cmd, check=True, text=True, capture_output=True)\n",
    "            run_cmd = [\"./optimized\"]\n",
    "            run_result = subprocess.run(run_cmd, check=True, text=True, capture_output=True)\n",
    "            return run_result.stdout\n",
    "        except subprocess.CalledProcessError as e:\n",
    "            return f\"An error occurred:\\n{e.stderr}\""
   ]
  },
  {
   "cell_type": "code",
   "execution_count": 75,
   "id": "9a2274f1-d03b-42c0-8dcc-4ce159b18442",
   "metadata": {},
   "outputs": [],
   "source": [
    "css = \"\"\"\n",
    ".python {background-color: #306998;}\n",
    ".cpp {background-color: #050;}\n",
    "\"\"\""
   ]
  },
  {
   "cell_type": "code",
   "execution_count": 76,
   "id": "f1303932-160c-424b-97a8-d28c816721b2",
   "metadata": {
    "scrolled": true
   },
   "outputs": [
    {
     "name": "stdout",
     "output_type": "stream",
     "text": [
      "* Running on local URL:  http://127.0.0.1:7863\n",
      "\n",
      "To create a public link, set `share=True` in `launch()`.\n"
     ]
    },
    {
     "data": {
      "text/html": [
       "<div><iframe src=\"http://127.0.0.1:7863/\" width=\"100%\" height=\"500\" allow=\"autoplay; camera; microphone; clipboard-read; clipboard-write;\" frameborder=\"0\" allowfullscreen></iframe></div>"
      ],
      "text/plain": [
       "<IPython.core.display.HTML object>"
      ]
     },
     "metadata": {},
     "output_type": "display_data"
    },
    {
     "data": {
      "text/plain": []
     },
     "execution_count": 76,
     "metadata": {},
     "output_type": "execute_result"
    }
   ],
   "source": [
    "#Agreego gemini a la segunda versionando de gradio\n",
    "with gr.Blocks(css=css) as ui:\n",
    "    gr.Markdown(\"## Convierte código de Python a C++\")\n",
    "    with gr.Row():\n",
    "        python = gr.Textbox(label=\"Código en Python:\", value=python_hard, lines=10)\n",
    "        cpp = gr.Textbox(label=\"Código en C++:\", lines=10)\n",
    "    with gr.Row():\n",
    "        model = gr.Dropdown([\"GPT\", \"Claude\",\"Gemini\"], label=\"Selecciona el modelo\", value=\"GPT\")\n",
    "    with gr.Row():\n",
    "        convert = gr.Button(\"Convertir el código\")\n",
    "    with gr.Row():\n",
    "        python_run = gr.Button(\"Ejecutar Python\")\n",
    "        cpp_run = gr.Button(\"Ejecutar C++\")\n",
    "    with gr.Row():\n",
    "        python_out = gr.TextArea(label=\"Resultado en Python:\", elem_classes=[\"python\"])\n",
    "        cpp_out = gr.TextArea(label=\"Resultado en C++:\", elem_classes=[\"cpp\"])\n",
    "\n",
    "    convert.click(optimize, inputs=[python, model], outputs=[cpp])\n",
    "    python_run.click(execute_python, inputs=[python], outputs=[python_out])\n",
    "    cpp_run.click(execute_cpp, inputs=[cpp], outputs=[cpp_out])\n",
    "\n",
    "ui.launch(inbrowser=True)"
   ]
  },
  {
   "cell_type": "code",
   "execution_count": 79,
   "id": "717ac717-acb9-483b-aca7-b9c5f7589e32",
   "metadata": {},
   "outputs": [],
   "source": [
    "def add_docstrings_and_comments(python_code):\n",
    "    \"\"\"\n",
    "    Toma un código en Python y agrega automáticamente docstrings y comentarios explicativos.\n",
    "    \"\"\"\n",
    "    prompt = f\"\"\"\n",
    "    Agrega docstrings y comentarios explicativos al siguiente código de Python:\n",
    "    \n",
    "    {python_code}\n",
    "    \"\"\"\n",
    "    model = genai.GenerativeModel(\"gemini-1.5-flash\")\n",
    "    response = model.generate_content(prompt)\n",
    "    return response.text.replace(\"\\n\", \"\\n\\n\")\n"
   ]
  },
  {
   "cell_type": "code",
   "execution_count": 80,
   "id": "8066accc-84df-4969-a83b-973ffdd15203",
   "metadata": {},
   "outputs": [
    {
     "data": {
      "text/plain": [
       "'```python\\n\\nimport time\\n\\n\\n\\ndef calculate(iterations, param1, param2):\\n\\n    \"\"\"\\n\\n    Calcula una aproximación a un valor numérico utilizando una serie.\\n\\n\\n\\n    Args:\\n\\n        iterations (int): Número de iteraciones para la aproximación.  Debe ser un entero positivo.\\n\\n        param1 (float): Primer parámetro de la fórmula.\\n\\n        param2 (float): Segundo parámetro de la fórmula.\\n\\n\\n\\n    Returns:\\n\\n        float: El resultado aproximado de la serie.  Devuelve 0 si `iterations` es 0 o menor.\\n\\n\\n\\n    Raises:\\n\\n        ZeroDivisionError: Si `param1` y `param2` producen un denominador igual a cero en la fórmula.\\n\\n    \"\"\"\\n\\n    if iterations <=0:\\n\\n        return 0\\n\\n    result = 1.0\\n\\n    for i in range(1, iterations+1):\\n\\n        # Calcula el primer término de la serie\\n\\n        j = i * param1 - param2\\n\\n        if j == 0:\\n\\n            raise ZeroDivisionError(\"Denominador igual a cero en la primera parte de la fórmula\")\\n\\n        result -= (1/j)  # Resta el inverso de j al resultado\\n\\n        \\n\\n        # Calcula el segundo término de la serie\\n\\n        j = i * param1 + param2\\n\\n        if j == 0:\\n\\n            raise ZeroDivisionError(\"Denominador igual a cero en la segunda parte de la fórmula\")\\n\\n        result += (1/j)  # Suma el inverso de j al resultado\\n\\n    return result\\n\\n\\n\\n# Parámetros de la función calculate\\n\\niterations = 100_000_000\\n\\nparam1 = 4\\n\\nparam2 = 1\\n\\n\\n\\n# Registra el tiempo de inicio\\n\\nstart_time = time.time()\\n\\n\\n\\n# Realiza el cálculo y multiplica el resultado por 4\\n\\nresult = calculate(iterations, param1, param2) * 4\\n\\n\\n\\n# Registra el tiempo de finalización\\n\\nend_time = time.time()\\n\\n\\n\\n# Imprime el resultado con 12 decimales y el tiempo de ejecución con 6 decimales\\n\\nprint(f\"Result: {result:.12f}\")\\n\\nprint(f\"Execution Time: {(end_time - start_time):.6f} seconds\")\\n\\n\\n\\n```'"
      ]
     },
     "execution_count": 80,
     "metadata": {},
     "output_type": "execute_result"
    }
   ],
   "source": [
    "add_docstrings_and_comments(pi)"
   ]
  },
  {
   "cell_type": "code",
   "execution_count": 81,
   "id": "a78e860e-5bf3-438f-ac49-feb007d25c83",
   "metadata": {},
   "outputs": [],
   "source": [
    "#Crear una herramienta de codigo que agrega automáticamente docstrings y comentarios\n",
    "\n",
    "system_message = \"Eres un asistente que analiza y modifica código fuente de alto rendimiento para una Mac M4. \"\n",
    "system_message += \"Procesa ese codigo, analiza la estructura del código (funciones, clases, módulos, variables).Identifica los propósitos y agrega explicaciones adecuadas. \"\n",
    "system_message += \"Inserta docstrings y comentarios donde sean necesarios. \"\n",
    "system_message += \"Se devuelve el mismo código pero con documentación añadida. en el menor tiempo posible.\"\n"
   ]
  },
  {
   "cell_type": "code",
   "execution_count": 82,
   "id": "1c60c973-fc42-40a1-8af1-843305864b65",
   "metadata": {},
   "outputs": [],
   "source": [
    "def user_prompt_for(codigo):\n",
    "    user_prompt = (\n",
    "        \"Optimiza el siguiente código para que se ejecute en el menor tiempo posible, \"\n",
    "        \"manteniendo su salida idéntica. Luego, agrega docstrings y comentarios explicativos.\\n\\n\"\n",
    "        \"Código:\\n\\n\"\n",
    "    )\n",
    "    user_prompt += codigo\n",
    "    return user_prompt"
   ]
  },
  {
   "cell_type": "code",
   "execution_count": 83,
   "id": "19934d12-8b0a-48ab-9d41-55e3313d401a",
   "metadata": {},
   "outputs": [],
   "source": [
    "def messages_for(codigo):\n",
    "    return [\n",
    "        {\"role\": \"system\", \"content\": system_message},\n",
    "        {\"role\": \"user\", \"content\": user_prompt_for(codigo)}\n",
    "    ]"
   ]
  },
  {
   "cell_type": "code",
   "execution_count": 87,
   "id": "352e3c2e-e8bb-4f3f-8af0-ecd357c218e7",
   "metadata": {},
   "outputs": [],
   "source": [
    "def explicar_gpt(codigo):\n",
    "\n",
    "    stream = openai.chat.completions.create(model=OPENAI_MODEL, messages=messages_for(codigo), stream=True)\n",
    "    \n",
    "    reply = \"\"\n",
    "    for chunk in stream:\n",
    "        fragment = chunk.choices[0].delta.content or \"\"\n",
    "        reply += fragment\n",
    "        print(fragment, end='', flush=True)"
   ]
  },
  {
   "cell_type": "code",
   "execution_count": 85,
   "id": "48b9089a-eb6d-41ae-b334-57640523dd1f",
   "metadata": {},
   "outputs": [],
   "source": [
    "\n",
    "ejemplo = \"\"\"\n",
    "\n",
    "def sum(param1, param2):\n",
    "    return param1 + param2\n",
    "\"\"\""
   ]
  },
  {
   "cell_type": "code",
   "execution_count": 86,
   "id": "2df5b1e5-6624-4e54-a33d-34c6a97c26f1",
   "metadata": {},
   "outputs": [
    {
     "name": "stdout",
     "output_type": "stream",
     "text": [
      "El código dado es una función sencilla que suma dos números. Es eficiente y no requiere optimización adicional para mejorar el rendimiento, ya que se trata de una simple operación de suma. Sin embargo, puedo agregar documentación para aclarar su propósito:\n",
      "\n",
      "```python\n",
      "def sum(param1, param2):\n",
      "    \"\"\"\n",
      "    Suma dos números.\n",
      "\n",
      "    Esta función recibe dos parámetros numéricos y devuelve su suma. \n",
      "    Se asume que los parámetros proporcionados son valores numéricos (int, float).\n",
      "\n",
      "    Parameters:\n",
      "    param1: int or float\n",
      "        El primer número a sumar.\n",
      "    param2: int or float\n",
      "        El segundo número a sumar.\n",
      "\n",
      "    Returns:\n",
      "    int or float\n",
      "        La suma de param1 y param2.\n",
      "    \"\"\"\n",
      "    return param1 + param2\n",
      "```\n",
      "\n",
      "### Explicaciones añadidas:\n",
      "- **Docstring:** Se ha añadido un docstring para describir la función, explicando qué hace, qué parámetros recibe, y qué devuelve.\n",
      "- **Comentarios internos:** No son necesarios debido a la simplicidad de la función, ya que el código es autoexplicativo."
     ]
    },
    {
     "data": {
      "text/plain": [
       "'El código dado es una función sencilla que suma dos números. Es eficiente y no requiere optimización adicional para mejorar el rendimiento, ya que se trata de una simple operación de suma. Sin embargo, puedo agregar documentación para aclarar su propósito:\\n\\n```python\\ndef sum(param1, param2):\\n    \"\"\"\\n    Suma dos números.\\n\\n    Esta función recibe dos parámetros numéricos y devuelve su suma. \\n    Se asume que los parámetros proporcionados son valores numéricos (int, float).\\n\\n    Parameters:\\n    param1: int or float\\n        El primer número a sumar.\\n    param2: int or float\\n        El segundo número a sumar.\\n\\n    Returns:\\n    int or float\\n        La suma de param1 y param2.\\n    \"\"\"\\n    return param1 + param2\\n```\\n\\n### Explicaciones añadidas:\\n- **Docstring:** Se ha añadido un docstring para describir la función, explicando qué hace, qué parámetros recibe, y qué devuelve.\\n- **Comentarios internos:** No son necesarios debido a la simplicidad de la función, ya que el código es autoexplicativo.'"
      ]
     },
     "execution_count": 86,
     "metadata": {},
     "output_type": "execute_result"
    }
   ],
   "source": [
    "explicar_gpt(ejemplo)"
   ]
  },
  {
   "cell_type": "code",
   "execution_count": 52,
   "id": "d08b3334-e5c9-4033-b63a-bdac533e5a0b",
   "metadata": {},
   "outputs": [
    {
     "name": "stdout",
     "output_type": "stream",
     "text": [
      "* Running on local URL:  http://127.0.0.1:7861\n",
      "\n",
      "To create a public link, set `share=True` in `launch()`.\n"
     ]
    },
    {
     "data": {
      "text/html": [
       "<div><iframe src=\"http://127.0.0.1:7861/\" width=\"100%\" height=\"500\" allow=\"autoplay; camera; microphone; clipboard-read; clipboard-write;\" frameborder=\"0\" allowfullscreen></iframe></div>"
      ],
      "text/plain": [
       "<IPython.core.display.HTML object>"
      ]
     },
     "metadata": {},
     "output_type": "display_data"
    },
    {
     "name": "stdout",
     "output_type": "stream",
     "text": [
      "```cpp\n",
      "#include <iostream>\n",
      "\n",
      " Función que resta dos enteros y devuelve el resultado.\n",
      "int resta(int param1, int param2) {\n",
      "    return param1 - param2;\n",
      "}\n",
      "\n",
      "int main() {\n",
      "    int resultado = resta(10, 5); // Ejemplo de llamada a la función\n",
      "    std::cout << resultado << std::endl; // Salida: 5\n",
      "    return 0;\n",
      "}\n",
      "```"
     ]
    }
   ],
   "source": [
    "import gradio as gr\n",
    "\n",
    "def procesar_codigo(codigo, modelo):\n",
    "    if modelo == \"GPT\":\n",
    "        return explicar_gpt(codigo)\n",
    "    return \"Modelo no soportado\"\n",
    "\n",
    "# Definir la interfaz con Gradio\n",
    "def crear_interfaz():\n",
    "    with gr.Blocks() as interfaz:\n",
    "        gr.Markdown(\"# Explicador de Código\")\n",
    "\n",
    "        codigo_input = gr.Textbox(label=\"Ingresa por favor tu código\", lines=6, placeholder=\"Pega tu código aquí...\")\n",
    "\n",
    "        modelo_input = gr.Dropdown(\n",
    "            choices=[\"GPT\"], \n",
    "            value=\"GPT\", \n",
    "            label=\"Selecciona un modelo\"\n",
    "        )\n",
    "        boton = gr.Button(\"Explicar Código\")\n",
    "        salida = gr.Textbox(label=\"Explicación\", lines=6, interactive=False)\n",
    "        boton.click(procesar_codigo, inputs=[codigo_input, modelo_input], outputs=salida)\n",
    "\n",
    "    interfaz.launch()\n",
    "\n",
    "crear_interfaz()\n",
    "\n",
    "\n"
   ]
  }
 ],
 "metadata": {
  "kernelspec": {
   "display_name": "Python 3 (ipykernel)",
   "language": "python",
   "name": "python3"
  },
  "language_info": {
   "codemirror_mode": {
    "name": "ipython",
    "version": 3
   },
   "file_extension": ".py",
   "mimetype": "text/x-python",
   "name": "python",
   "nbconvert_exporter": "python",
   "pygments_lexer": "ipython3",
   "version": "3.11.11"
  }
 },
 "nbformat": 4,
 "nbformat_minor": 5
}
