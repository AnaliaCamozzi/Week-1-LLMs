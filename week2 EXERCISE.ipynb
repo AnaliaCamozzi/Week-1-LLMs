{
 "cells": [
  {
   "cell_type": "markdown",
   "id": "d006b2ea-9dfe-49c7-88a9-a5a0775185fd",
   "metadata": {},
   "source": [
    "# Ejercicio adicional de fin de semana: semana 2\n",
    "\n",
    "Ahora usa todo lo que aprendiste en la semana 2 para construir un prototipo completo para la pregunta/respuesta técnica que creaste en el ejercicio de la semana 1.\n",
    "\n",
    "Esto debería incluir una interfaz de usuario de Gradio, transmisión, uso del mensaje del sistema para agregar experiencia y la capacidad de cambiar entre modelos. ¡Puntos extra si puedes demostrar el uso de una herramienta!\n",
    "\n",
    "Si te sientes audaz, ve si puedes agregar una entrada de audio para poder hablarle y hacer que responda con audio. ChatGPT o Claude pueden ayudarte, o envíame un correo electrónico si tienes preguntas.\n",
    "\n",
    "Pronto publicaré una solución completa aquí, a menos que alguien se me adelante...\n",
    "\n",
    "Hay tantas aplicaciones comerciales para esto, desde un tutor de idiomas hasta una solución de incorporación de empresas, pasando por una IA complementaria para un curso (¡como este!). No puedo esperar a ver tus resultados."
   ]
  },
  {
   "cell_type": "code",
   "execution_count": 11,
   "id": "b0de19e6-d589-4f25-b5c5-a9212f80abcb",
   "metadata": {},
   "outputs": [],
   "source": [
    "### Vamos con semana 2\n",
    "\n",
    "import os\n",
    "import requests\n",
    "from bs4 import BeautifulSoup\n",
    "from typing import List\n",
    "from dotenv import load_dotenv\n",
    "from openai import OpenAI\n",
    "import google.generativeai\n",
    "import anthropic"
   ]
  },
  {
   "cell_type": "code",
   "execution_count": 12,
   "id": "150bdb7c-5cf3-4dc0-a4ce-458ed809506d",
   "metadata": {},
   "outputs": [],
   "source": [
    "import gradio as gr"
   ]
  },
  {
   "cell_type": "code",
   "execution_count": 13,
   "id": "c570f409-ca4d-48dc-84ad-1e8fb152dca0",
   "metadata": {},
   "outputs": [],
   "source": [
    "# Un mensaje genérico del sistema: ¡no más IA adversarias sarcásticas!\n",
    "\n",
    "system_message=\"Eres un experto en programación y análisis de código. Responde fácil, apto para no expertos y con precisión, por favor pon los resultados con salto de línea.\"\n"
   ]
  },
  {
   "cell_type": "code",
   "execution_count": 22,
   "id": "7e29d129-664c-4c5d-81c6-ddacc0c66571",
   "metadata": {},
   "outputs": [],
   "source": [
    "def stream(prompt):\n",
    "    messages = [\n",
    "        {\"role\": \"system\", \"content\": system_message},\n",
    "        {\"role\": \"user\", \"content\": prompt}\n",
    "      ]\n",
    "    stream = openai.chat.completions.create(\n",
    "        model='gpt-4o-mini',\n",
    "        messages=messages,\n",
    "        stream=True\n",
    "    )\n",
    "    result = \"\"\n",
    "    for chunk in stream:\n",
    "        result += chunk.choices[0].delta.content or \"\"\n",
    "        yield result\n"
   ]
  },
  {
   "cell_type": "code",
   "execution_count": 23,
   "id": "f4501e9e-9531-4922-9017-98dae7f12128",
   "metadata": {},
   "outputs": [
    {
     "name": "stdout",
     "output_type": "stream",
     "text": [
      "* Running on local URL:  http://127.0.0.1:7864\n",
      "\n",
      "To create a public link, set `share=True` in `launch()`.\n"
     ]
    },
    {
     "data": {
      "text/html": [
       "<div><iframe src=\"http://127.0.0.1:7864/\" width=\"100%\" height=\"500\" allow=\"autoplay; camera; microphone; clipboard-read; clipboard-write;\" frameborder=\"0\" allowfullscreen></iframe></div>"
      ],
      "text/plain": [
       "<IPython.core.display.HTML object>"
      ]
     },
     "metadata": {},
     "output_type": "display_data"
    },
    {
     "data": {
      "text/plain": []
     },
     "execution_count": 23,
     "metadata": {},
     "output_type": "execute_result"
    }
   ],
   "source": [
    "view = gr.Interface(\n",
    "    fn=stream,\n",
    "    inputs=[gr.Textbox(label=\"Haz una pregunta de codigo:\", lines=6)],\n",
    "    outputs=[gr.Textbox(label=\"Respuesta:\", lines=8)],\n",
    "    flagging_mode=\"never\"\n",
    ")\n",
    "view.launch()"
   ]
  },
  {
   "cell_type": "code",
   "execution_count": 29,
   "id": "3d040b9d-d214-4604-83ac-3c0a936fcac8",
   "metadata": {},
   "outputs": [],
   "source": [
    "#Es bien sabido que Claude es la herramienta fav de Cientificxs de datos asi que agrego a Claude como opción para\n",
    "#dar rta too\n",
    "\n",
    "claude = anthropic.Anthropic()\n",
    "\n",
    "def stream_2(prompt):\n",
    "    result = claude.messages.stream(\n",
    "        model=\"claude-3-haiku-20240307\",\n",
    "        max_tokens=1000,\n",
    "        temperature=0.7,\n",
    "        system=system_message,\n",
    "        messages=[\n",
    "            {\"role\": \"user\", \"content\": prompt},\n",
    "        ],\n",
    "    )\n",
    "    response = \"\"\n",
    "    with result as stream:\n",
    "        for text in stream.text_stream:\n",
    "            response += text or \"\"\n",
    "            yield response"
   ]
  },
  {
   "cell_type": "code",
   "execution_count": 30,
   "id": "7383bf86-4372-44fb-9baf-b62e7c1dd739",
   "metadata": {},
   "outputs": [],
   "source": [
    "def stream_model(prompt, model):\n",
    "    if model==\"GPT\":\n",
    "        result = stream(prompt)\n",
    "    elif model==\"Claude\":\n",
    "        result = stream_2(prompt)\n",
    "    else:\n",
    "        raise ValueError(\"Modelo Desconocido\")\n",
    "    yield from result"
   ]
  },
  {
   "cell_type": "code",
   "execution_count": 31,
   "id": "df84eacb-f2b0-4db8-87a9-54d97d646655",
   "metadata": {},
   "outputs": [
    {
     "name": "stdout",
     "output_type": "stream",
     "text": [
      "* Running on local URL:  http://127.0.0.1:7867\n",
      "\n",
      "To create a public link, set `share=True` in `launch()`.\n"
     ]
    },
    {
     "data": {
      "text/html": [
       "<div><iframe src=\"http://127.0.0.1:7867/\" width=\"100%\" height=\"500\" allow=\"autoplay; camera; microphone; clipboard-read; clipboard-write;\" frameborder=\"0\" allowfullscreen></iframe></div>"
      ],
      "text/plain": [
       "<IPython.core.display.HTML object>"
      ]
     },
     "metadata": {},
     "output_type": "display_data"
    },
    {
     "data": {
      "text/plain": []
     },
     "execution_count": 31,
     "metadata": {},
     "output_type": "execute_result"
    }
   ],
   "source": [
    "view = gr.Interface(\n",
    "    fn=stream_model,\n",
    "    inputs=[gr.Textbox(label=\"Haz una pregunta de codigo:\"), gr.Dropdown([\"GPT\", \"Claude\"], label=\"Selecciona un modelo:\", value=\"GPT\")],\n",
    "    outputs=[gr.Markdown(label=\"Respuesta:\")],\n",
    "    flagging_mode=\"never\"\n",
    ")\n",
    "view.launch()"
   ]
  },
  {
   "cell_type": "code",
   "execution_count": 59,
   "id": "60044e3a-c009-4384-a9ab-194fe7efbd02",
   "metadata": {},
   "outputs": [],
   "source": [
    "import os\n",
    "import json\n",
    "from dotenv import load_dotenv\n",
    "from openai import OpenAI\n",
    "import gradio as gr"
   ]
  },
  {
   "cell_type": "code",
   "execution_count": 39,
   "id": "d0e1caab-f39d-4b64-af27-c342d994abd0",
   "metadata": {},
   "outputs": [],
   "source": [
    "#vamos al chatbot> cambiamos ligeramente el objetivo del chat para no solo ser un asistente sino para ofrecerle\n",
    "#al usuario comprar un curso\n",
    "system_message = \"Eres un asistente de programacion, tu conocimiento es completo pero limitado. \\\n",
    "Es por eso que debes tratar de alentar gentilmente al alumno a que revise los cursos disponibles en la plataforma Estudio3\\\n",
    "Por ejemplo, si el alumno dice 'No termino de entender el codigo', \\\n",
    "podrías responder algo como 'Genial, tenemos muchos cursos disponibles en Estudio3 que podrian ser perfectos para vos'. \\\n",
    "Anima al cliente a comprar cursos haciendo incapie en que es personalizado, on demand y que obtendra un certificado.\""
   ]
  },
  {
   "cell_type": "code",
   "execution_count": 40,
   "id": "abf5e983-22d9-4f99-9dfd-1fc0ba84de3e",
   "metadata": {},
   "outputs": [],
   "source": [
    "\n",
    "def chat(message, history):\n",
    "    messages = [{\"role\": \"system\", \"content\": system_message}] + history + [{\"role\": \"user\", \"content\": message}]\n",
    "\n",
    "    stream = openai.chat.completions.create(model='gpt-4o-mini', messages=messages, stream=True)\n",
    "\n",
    "    response = \"\"\n",
    "    for chunk in stream:\n",
    "        response += chunk.choices[0].delta.content or ''\n",
    "        yield response"
   ]
  },
  {
   "cell_type": "code",
   "execution_count": 41,
   "id": "34b52dde-55c7-44f1-8d62-93065fe5e980",
   "metadata": {},
   "outputs": [
    {
     "name": "stdout",
     "output_type": "stream",
     "text": [
      "* Running on local URL:  http://127.0.0.1:7871\n",
      "\n",
      "To create a public link, set `share=True` in `launch()`.\n"
     ]
    },
    {
     "data": {
      "text/html": [
       "<div><iframe src=\"http://127.0.0.1:7871/\" width=\"100%\" height=\"500\" allow=\"autoplay; camera; microphone; clipboard-read; clipboard-write;\" frameborder=\"0\" allowfullscreen></iframe></div>"
      ],
      "text/plain": [
       "<IPython.core.display.HTML object>"
      ]
     },
     "metadata": {},
     "output_type": "display_data"
    },
    {
     "data": {
      "text/plain": []
     },
     "execution_count": 41,
     "metadata": {},
     "output_type": "execute_result"
    }
   ],
   "source": [
    "gr.ChatInterface(fn=chat, type=\"messages\").launch()"
   ]
  },
  {
   "cell_type": "code",
   "execution_count": 76,
   "id": "70123eda-079c-4c1a-affc-291db0ede0e1",
   "metadata": {},
   "outputs": [],
   "source": [
    "# Agregar una herramienta para dar opciones de cursos y precios\n",
    "\n",
    "cursos_disponibles = {\"python\": \"10K\", \"r\": \"5k\", \"java\": \"10k\", \"sql\": \"5k\",\"python\": \"10K\"}\n",
    "\n",
    "def get_course_price(lenguaje_seleccionado):\n",
    "    print(f\"Se solicitó la herramienta get_course_price para {lenguaje_seleccionado}\")\n",
    "    lenguaje = lenguaje_seleccionado.lower()\n",
    "    return cursos_disponibles.get(lenguaje, \"Unknown\")"
   ]
  },
  {
   "cell_type": "code",
   "execution_count": 77,
   "id": "7a5367dc-ed3f-4bbd-8716-c52294e4194d",
   "metadata": {},
   "outputs": [],
   "source": [
    "paquetes_disponibles = {\"python\": \"50 horas\", \"r\": \"18 horas\", \"java\": \"25 horas\", \"sql\": \"25 horas\",\"python\": \"50 horas\"}\n",
    "\n",
    "\n",
    "def get_course_length(lenguaje_seleccionado):\n",
    "    print(f\"Se solicitó la herramienta get_course_lenght para {lenguaje_seleccionado}\")\n",
    "    lenguaje = lenguaje_seleccionado.lower()\n",
    "    return paquetes_disponibles.get(lenguaje, \"Unknown\")"
   ]
  },
  {
   "cell_type": "code",
   "execution_count": 93,
   "id": "8ce8831a-b0d4-449c-809a-89cb01edff57",
   "metadata": {},
   "outputs": [],
   "source": [
    "# dar herramienta para que el alumno pueda mandar un mail a Estudio3\n",
    "import smtplib\n",
    "from email.mime.text import MIMEText\n",
    "\n",
    "def create_email_template(nombre, email, mensaje):\n",
    "    print(f\"Se solicitó enviar un email de {nombre} ({email}) con el mensaje: {mensaje}\")\n",
    "\n",
    "    # Configurar el cuerpo del mensaje\n",
    "    msg = MIMEText(f\"Nombre: {nombre}\\nEmail: {email}\\nMensaje: {mensaje}\")\n",
    "    msg[\"Subject\"] = asunto\n",
    "    msg[\"From\"] = remitente\n",
    "    msg[\"To\"] = destinatario\n"
   ]
  },
  {
   "cell_type": "code",
   "execution_count": 78,
   "id": "78691318-0c18-4c6f-94b8-55fd523e0da3",
   "metadata": {},
   "outputs": [],
   "source": [
    "# Hay una estructura de diccionario particular que se requiere para describir nuestra función:\n",
    "# es un diccionario\n",
    "price_function = {\n",
    "    \"name\": \"get_course_price\", # aca va el nombre de la funcion\n",
    "    \"description\": \"Obtén el precio de un curso de programación. Llámalo siempre que necesites saber el precio del curso, por ejemplo, cuando un cliente pregunte '¿Cuánto cuesta un curso de este lenguaje?'\",\n",
    "    #va en el idioma del LLM q le dara al modelo para que es adecuado utilizar esta funcion\n",
    "    #darle un ejemplo es una muy buena idea\n",
    "    \"parameters\": {\n",
    "        #se describe la función en si\n",
    "        \"type\": \"object\",\n",
    "        \"properties\": {\n",
    "            \"lenguaje_seleccionado\": {\n",
    "                \"type\": \"string\",\n",
    "                \"description\": \"El lenguaje que deseas aprender\",\n",
    "            },\n",
    "        },\n",
    "        #parametro requerido y obligatorio\n",
    "        \"required\": [\"lenguaje_seleccionado\"],\n",
    "        \"additionalProperties\": False\n",
    "    }\n",
    "}"
   ]
  },
  {
   "cell_type": "code",
   "execution_count": 94,
   "id": "89f1f631-58dd-42c8-9c5c-152dc23b959a",
   "metadata": {},
   "outputs": [],
   "source": [
    "email_template = {\n",
    "    \"name\": \"create_email_template\",\n",
    "    \"description\": \"Crea una plantilla para solicitar más información sobre los cursos disponibles.\",\n",
    "    \"parameters\": {\n",
    "        \"type\": \"object\",\n",
    "        \"properties\": {\n",
    "            \"nombre\": {\n",
    "                \"type\": \"string\",\n",
    "                \"description\": \"Nombre del solicitante\"\n",
    "            },\n",
    "            \"email\": {\n",
    "                \"type\": \"string\",\n",
    "                \"description\": \"Correo electrónico del solicitante\"\n",
    "            },\n",
    "            \"mensaje\": {\n",
    "                \"type\": \"string\",\n",
    "                \"description\": \"Mensaje con la solicitud de información\"\n",
    "            }\n",
    "        },\n",
    "        \"required\": [\"nombre\", \"email\", \"mensaje\"],\n",
    "        \"additionalProperties\": False\n",
    "    }\n",
    "}"
   ]
  },
  {
   "cell_type": "code",
   "execution_count": 79,
   "id": "5573d4f5-6682-474c-9605-3d6bd3e9d74d",
   "metadata": {},
   "outputs": [],
   "source": [
    "# Hay una estructura de diccionario particular que se requiere para describir nuestra función:\n",
    "# es un diccionario\n",
    "length_function = {\n",
    "    \"name\": \"get_course_length\", # aca va el nombre de la funcion\n",
    "    \"description\": \"Obtén la duracion un curso de programación. Llámalo siempre que necesites saber la duración curso, por ejemplo, cuando un cliente pregunte '¿Cuánto horas puedo estudiar ese lenguaje?'\",\n",
    "    #va en el idioma del LLM q le dara al modelo para que es adecuado utilizar esta funcion\n",
    "    #darle un ejemplo es una muy buena idea\n",
    "    \"parameters\": {\n",
    "        #se describe la función en si\n",
    "        \"type\": \"object\",\n",
    "        \"properties\": {\n",
    "            \"lenguaje_seleccionado\": {\n",
    "                \"type\": \"string\",\n",
    "                \"description\": \"La duración del curso del lenguaje que deseas aprender\",\n",
    "            },\n",
    "        },\n",
    "        #parametro requerido y obligatorio\n",
    "        \"required\": [\"lenguaje_seleccionado\"],\n",
    "        \"additionalProperties\": False\n",
    "    }\n",
    "}"
   ]
  },
  {
   "cell_type": "code",
   "execution_count": null,
   "id": "b06d023c-3a9d-478f-a311-64c4dfcad8b8",
   "metadata": {},
   "outputs": [],
   "source": []
  },
  {
   "cell_type": "code",
   "execution_count": null,
   "id": "71d70461-a0a4-4465-9531-e3a112e8a6ae",
   "metadata": {},
   "outputs": [],
   "source": []
  },
  {
   "cell_type": "code",
   "execution_count": null,
   "id": "34be544c-0edd-42ef-b6df-b2fc4c582c8b",
   "metadata": {},
   "outputs": [],
   "source": []
  },
  {
   "cell_type": "code",
   "execution_count": null,
   "id": "3f2657bc-9edc-4237-bcd0-337c8ba56923",
   "metadata": {},
   "outputs": [],
   "source": []
  },
  {
   "cell_type": "code",
   "execution_count": null,
   "id": "f99ffebe-65fd-420c-a8d6-623dc839d968",
   "metadata": {},
   "outputs": [],
   "source": []
  },
  {
   "cell_type": "code",
   "execution_count": null,
   "id": "c95e831c-bb1c-4564-b6b1-54eed27ccf05",
   "metadata": {},
   "outputs": [],
   "source": []
  },
  {
   "cell_type": "code",
   "execution_count": null,
   "id": "a1f6d164-bb03-41b3-95e2-b598dca33380",
   "metadata": {},
   "outputs": [],
   "source": []
  },
  {
   "cell_type": "code",
   "execution_count": 87,
   "id": "c2f57f9f-48a0-4d93-9361-e6b68960fd4a",
   "metadata": {},
   "outputs": [],
   "source": [
    "#Generacion de las herramientas\n",
    "\n",
    "tools = [{\"type\": \"function\", \"function\": price_function},{\"type\": \"function\", \"function\": length_function},\n",
    "        {\"type\": \"function\", \"function\": email_template}]"
   ]
  },
  {
   "cell_type": "code",
   "execution_count": null,
   "id": "32681db1-0f71-48e5-9b25-d5c5b2ef25dc",
   "metadata": {},
   "outputs": [],
   "source": []
  },
  {
   "cell_type": "code",
   "execution_count": null,
   "id": "88f925c2-5549-4dc6-b6fa-a755a6c46678",
   "metadata": {},
   "outputs": [],
   "source": []
  },
  {
   "cell_type": "code",
   "execution_count": 90,
   "id": "91bd2efe-3ed7-4e56-a6ec-a59892b0f35a",
   "metadata": {},
   "outputs": [],
   "source": [
    "def handle_tool_call(message):\n",
    "    tool_call = message.tool_calls[0] # recuperamos la herramienta q quieres usar\n",
    "    arguments = json.loads(tool_call.function.arguments) #cargamos los argumentos\n",
    "    lenguaje = arguments.get('lenguaje_seleccionado') #argumentos mandatorios\n",
    "\n",
    "\n",
    "## aca agrego opciones para el uso de las dos tools   \n",
    "    if tool_call.function.name == \"get_course_price\":\n",
    "        result = get_course_price(lenguaje)\n",
    "    elif tool_call.function.name == \"get_course_length\":\n",
    "        result = get_course_length(lenguaje)\n",
    "    elif tool_call.function.name == \"send_email\":\n",
    "        result = create_email_template(arguments.get(\"nombre\"), arguments.get(\"email\"), arguments.get(\"mensaje\"))\n",
    "    else:\n",
    "        result = \"Unknown tool\"\n",
    "\n",
    "    response = {\n",
    "        \"role\": \"tool\",\n",
    "        \"content\": json.dumps({\"lenguaje_seleccionado\": lenguaje, \"result\": result}),\n",
    "        \"tool_call_id\": tool_call.id\n",
    "    }\n",
    "    return response, arguments.get(\"nombre\")"
   ]
  },
  {
   "cell_type": "code",
   "execution_count": 91,
   "id": "61f583a3-1646-48cd-b105-beda40deb340",
   "metadata": {},
   "outputs": [],
   "source": [
    "def chat(message, history):\n",
    "    messages = [{\"role\": \"system\", \"content\": system_message}] + history + [{\"role\": \"user\", \"content\": message}]\n",
    "    response = openai.chat.completions.create(model='gpt-4o-mini', messages=messages, tools=tools)\n",
    "    \n",
    "    # se agregaron las tools en el codigo que ya conocemos\n",
    "    #comprobamos si la rta tiene un finish reason - es donde integramos la herramienta\n",
    "    #if == tool_calls\n",
    "    # al agregarla lo estamos mandando al modelo\n",
    "    # \n",
    "    if response.choices[0].finish_reason==\"tool_calls\":\n",
    "        message = response.choices[0].message #recopilamos la rta\n",
    "        response, lenguaje = handle_tool_call(message) #aca debemos programar la llamada a la herramienta, la funcion esta abajo \n",
    "        #esta ejecuta la parte de los precios y esa es la rta q apendeo abajo\n",
    "        messages.append(message) # a partir de ese mensaje se deben eppendear al resto de los mensajes\n",
    "        messages.append(response) #a ca agregamos la respuesta \n",
    "        response = openai.chat.completions.create(model='gpt-4o-mini', messages=messages) # es la segunda rta de open ia a partir de la herramienta\n",
    "        # rta final\n",
    "        # flujo : usuario, asistente, usuario, asistente q quiere llamar a herramienta \n",
    "    \n",
    "    return response.choices[0].message.content"
   ]
  },
  {
   "cell_type": "code",
   "execution_count": 92,
   "id": "53dc2da8-3201-470b-b7ab-cec5cb793829",
   "metadata": {},
   "outputs": [
    {
     "name": "stdout",
     "output_type": "stream",
     "text": [
      "* Running on local URL:  http://127.0.0.1:7875\n",
      "\n",
      "To create a public link, set `share=True` in `launch()`.\n"
     ]
    },
    {
     "data": {
      "text/html": [
       "<div><iframe src=\"http://127.0.0.1:7875/\" width=\"100%\" height=\"500\" allow=\"autoplay; camera; microphone; clipboard-read; clipboard-write;\" frameborder=\"0\" allowfullscreen></iframe></div>"
      ],
      "text/plain": [
       "<IPython.core.display.HTML object>"
      ]
     },
     "metadata": {},
     "output_type": "display_data"
    },
    {
     "data": {
      "text/plain": []
     },
     "execution_count": 92,
     "metadata": {},
     "output_type": "execute_result"
    },
    {
     "name": "stdout",
     "output_type": "stream",
     "text": [
      "Se solicitó la herramienta get_course_price para sql\n",
      "Se solicitó la herramienta get_course_lenght para SQL\n",
      "Se solicitó enviar un email de Ani (analia.camozzi15@gmail.com) con el mensaje: Hola, estoy interesada en aprender SQL, pero me gustaría saber qué otros cursos tienen disponibles, así como sus precios y horarios. ¡Gracias!\n"
     ]
    }
   ],
   "source": [
    "gr.ChatInterface(fn=chat, type=\"messages\").launch()"
   ]
  },
  {
   "cell_type": "code",
   "execution_count": 67,
   "id": "5f8da3ae-f07c-4e06-bdc2-ac9eb77ced13",
   "metadata": {},
   "outputs": [],
   "source": [
    "# crear una herramienta mas, para que nos anote al curso y nos de una constancia\n",
    "\n",
    "\n",
    "\n",
    "\n"
   ]
  },
  {
   "cell_type": "code",
   "execution_count": 68,
   "id": "5e98a38c-2fc5-4f90-ac98-97e1403e1af9",
   "metadata": {},
   "outputs": [
    {
     "name": "stdout",
     "output_type": "stream",
     "text": [
      "Se solicitó la herramienta get_course_lenght para Python\n"
     ]
    },
    {
     "data": {
      "text/plain": [
       "'50 horas'"
      ]
     },
     "execution_count": 68,
     "metadata": {},
     "output_type": "execute_result"
    }
   ],
   "source": [
    "get_course_length(\"Python\")"
   ]
  },
  {
   "cell_type": "code",
   "execution_count": 73,
   "id": "9d18e9a5-b37c-443e-85a0-717c8015aff5",
   "metadata": {},
   "outputs": [],
   "source": []
  },
  {
   "cell_type": "code",
   "execution_count": 74,
   "id": "27dcadfa-3980-4362-9c76-a10c5636bcf1",
   "metadata": {},
   "outputs": [],
   "source": [
    "tools = [{\"type\": \"function\", \"function\": length_function}]"
   ]
  },
  {
   "cell_type": "code",
   "execution_count": 75,
   "id": "e01706df-1eef-4f48-9c24-269aaf60b681",
   "metadata": {},
   "outputs": [],
   "source": [
    "def handle_tool2_call(message):\n",
    "    tool_call = message.tool_calls[0] # recuperamos la herramienta q quieres usar\n",
    "    arguments = json.loads(tool_call.function.arguments) #cargamos los argumentos\n",
    "    lenguaje = arguments.get('lenguaje_seleccionado') #argumentos mandatorios\n",
    "    price = get_course_length(lenguaje) #llamo a la funcion\n",
    "    response = {#creamos la respuesta\n",
    "        \"role\": \"tool\",# aca es un rol nuevo, diferente a system o suer\n",
    "        \"content\": json.dumps({\"lenguaje_seleccionado\": lenguaje,\"length\": length}), #diccionario\n",
    "        \"tool_call_id\": message.tool_calls[0].id #parametro adicional, nuevo, identificador de llamada a la herramienta, de openIA\n",
    "    }\n",
    "    return response, lenguaje"
   ]
  },
  {
   "cell_type": "code",
   "execution_count": null,
   "id": "156fc0ba-0359-4e16-8c9f-352ba1246ac4",
   "metadata": {},
   "outputs": [],
   "source": [
    "def chat(message, history):\n",
    "    messages = [{\"role\": \"system\", \"content\": system_message}] + history + [{\"role\": \"user\", \"content\": message}]\n",
    "    response = openai.chat.completions.create(model=MODEL, messages=messages, tools=tools)\n",
    "\n",
    "    if response.choices[0].finish_reason==\"tool_calls\":\n",
    "        message = response.choices[0].message\n",
    "        response, city = handle_tool_call(message)\n",
    "        messages.append(message)\n",
    "        messages.append(response)\n",
    "        response = openai.chat.completions.create(model=MODEL, messages=messages)\n",
    "    \n",
    "    return response.choices[0].message.content"
   ]
  }
 ],
 "metadata": {
  "kernelspec": {
   "display_name": "Python 3 (ipykernel)",
   "language": "python",
   "name": "python3"
  },
  "language_info": {
   "codemirror_mode": {
    "name": "ipython",
    "version": 3
   },
   "file_extension": ".py",
   "mimetype": "text/x-python",
   "name": "python",
   "nbconvert_exporter": "python",
   "pygments_lexer": "ipython3",
   "version": "3.11.11"
  }
 },
 "nbformat": 4,
 "nbformat_minor": 5
}
